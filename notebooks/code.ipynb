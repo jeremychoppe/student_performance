{
 "cells": [
  {
   "cell_type": "code",
   "execution_count": 1,
   "id": "ba64becb-b511-41ec-941e-1fe16b85c59d",
   "metadata": {},
   "outputs": [],
   "source": [
    "import pandas as pd\n",
    "import plotly.graph_objects as go\n",
    "import plotly.express as px\n",
    "import plotly.io as pio"
   ]
  },
  {
   "cell_type": "code",
   "execution_count": 2,
   "id": "c4e31ae0-e1c0-4cb3-8057-53a1ddd2b2a7",
   "metadata": {},
   "outputs": [],
   "source": [
    "df = pd.read_csv(\"../data/student_data.csv\", sep=',')"
   ]
  },
  {
   "cell_type": "code",
   "execution_count": 3,
   "id": "8f03910d-d850-406f-958e-bf09bee66484",
   "metadata": {},
   "outputs": [
    {
     "data": {
      "text/html": [
       "<div>\n",
       "<style scoped>\n",
       "    .dataframe tbody tr th:only-of-type {\n",
       "        vertical-align: middle;\n",
       "    }\n",
       "\n",
       "    .dataframe tbody tr th {\n",
       "        vertical-align: top;\n",
       "    }\n",
       "\n",
       "    .dataframe thead th {\n",
       "        text-align: right;\n",
       "    }\n",
       "</style>\n",
       "<table border=\"1\" class=\"dataframe\">\n",
       "  <thead>\n",
       "    <tr style=\"text-align: right;\">\n",
       "      <th></th>\n",
       "      <th>StudentID</th>\n",
       "      <th>school</th>\n",
       "      <th>sex</th>\n",
       "      <th>age</th>\n",
       "      <th>address</th>\n",
       "      <th>famsize</th>\n",
       "      <th>Pstatus</th>\n",
       "      <th>Medu</th>\n",
       "      <th>Fedu</th>\n",
       "      <th>Mjob</th>\n",
       "      <th>...</th>\n",
       "      <th>internet</th>\n",
       "      <th>romantic</th>\n",
       "      <th>famrel</th>\n",
       "      <th>freetime</th>\n",
       "      <th>goout</th>\n",
       "      <th>Dalc</th>\n",
       "      <th>Walc</th>\n",
       "      <th>health</th>\n",
       "      <th>absences</th>\n",
       "      <th>FinalGrade</th>\n",
       "    </tr>\n",
       "  </thead>\n",
       "  <tbody>\n",
       "    <tr>\n",
       "      <th>0</th>\n",
       "      <td>0</td>\n",
       "      <td>GP</td>\n",
       "      <td>F</td>\n",
       "      <td>18</td>\n",
       "      <td>U</td>\n",
       "      <td>GT3</td>\n",
       "      <td>A</td>\n",
       "      <td>4</td>\n",
       "      <td>4</td>\n",
       "      <td>at_home</td>\n",
       "      <td>...</td>\n",
       "      <td>no</td>\n",
       "      <td>no</td>\n",
       "      <td>4</td>\n",
       "      <td>3</td>\n",
       "      <td>4</td>\n",
       "      <td>1</td>\n",
       "      <td>1</td>\n",
       "      <td>3</td>\n",
       "      <td>6</td>\n",
       "      <td>6</td>\n",
       "    </tr>\n",
       "    <tr>\n",
       "      <th>1</th>\n",
       "      <td>1</td>\n",
       "      <td>GP</td>\n",
       "      <td>F</td>\n",
       "      <td>17</td>\n",
       "      <td>U</td>\n",
       "      <td>GT3</td>\n",
       "      <td>T</td>\n",
       "      <td>1</td>\n",
       "      <td>1</td>\n",
       "      <td>at_home</td>\n",
       "      <td>...</td>\n",
       "      <td>yes</td>\n",
       "      <td>no</td>\n",
       "      <td>5</td>\n",
       "      <td>3</td>\n",
       "      <td>3</td>\n",
       "      <td>1</td>\n",
       "      <td>1</td>\n",
       "      <td>3</td>\n",
       "      <td>4</td>\n",
       "      <td>6</td>\n",
       "    </tr>\n",
       "    <tr>\n",
       "      <th>2</th>\n",
       "      <td>2</td>\n",
       "      <td>GP</td>\n",
       "      <td>F</td>\n",
       "      <td>15</td>\n",
       "      <td>U</td>\n",
       "      <td>LE3</td>\n",
       "      <td>T</td>\n",
       "      <td>1</td>\n",
       "      <td>1</td>\n",
       "      <td>at_home</td>\n",
       "      <td>...</td>\n",
       "      <td>yes</td>\n",
       "      <td>no</td>\n",
       "      <td>4</td>\n",
       "      <td>3</td>\n",
       "      <td>2</td>\n",
       "      <td>2</td>\n",
       "      <td>3</td>\n",
       "      <td>3</td>\n",
       "      <td>10</td>\n",
       "      <td>10</td>\n",
       "    </tr>\n",
       "    <tr>\n",
       "      <th>3</th>\n",
       "      <td>3</td>\n",
       "      <td>GP</td>\n",
       "      <td>F</td>\n",
       "      <td>15</td>\n",
       "      <td>U</td>\n",
       "      <td>GT3</td>\n",
       "      <td>T</td>\n",
       "      <td>4</td>\n",
       "      <td>2</td>\n",
       "      <td>health</td>\n",
       "      <td>...</td>\n",
       "      <td>yes</td>\n",
       "      <td>yes</td>\n",
       "      <td>3</td>\n",
       "      <td>2</td>\n",
       "      <td>2</td>\n",
       "      <td>1</td>\n",
       "      <td>1</td>\n",
       "      <td>5</td>\n",
       "      <td>2</td>\n",
       "      <td>15</td>\n",
       "    </tr>\n",
       "    <tr>\n",
       "      <th>4</th>\n",
       "      <td>4</td>\n",
       "      <td>GP</td>\n",
       "      <td>F</td>\n",
       "      <td>16</td>\n",
       "      <td>U</td>\n",
       "      <td>GT3</td>\n",
       "      <td>T</td>\n",
       "      <td>3</td>\n",
       "      <td>3</td>\n",
       "      <td>other</td>\n",
       "      <td>...</td>\n",
       "      <td>no</td>\n",
       "      <td>no</td>\n",
       "      <td>4</td>\n",
       "      <td>3</td>\n",
       "      <td>2</td>\n",
       "      <td>1</td>\n",
       "      <td>2</td>\n",
       "      <td>5</td>\n",
       "      <td>4</td>\n",
       "      <td>10</td>\n",
       "    </tr>\n",
       "    <tr>\n",
       "      <th>...</th>\n",
       "      <td>...</td>\n",
       "      <td>...</td>\n",
       "      <td>...</td>\n",
       "      <td>...</td>\n",
       "      <td>...</td>\n",
       "      <td>...</td>\n",
       "      <td>...</td>\n",
       "      <td>...</td>\n",
       "      <td>...</td>\n",
       "      <td>...</td>\n",
       "      <td>...</td>\n",
       "      <td>...</td>\n",
       "      <td>...</td>\n",
       "      <td>...</td>\n",
       "      <td>...</td>\n",
       "      <td>...</td>\n",
       "      <td>...</td>\n",
       "      <td>...</td>\n",
       "      <td>...</td>\n",
       "      <td>...</td>\n",
       "      <td>...</td>\n",
       "    </tr>\n",
       "    <tr>\n",
       "      <th>352</th>\n",
       "      <td>390</td>\n",
       "      <td>MS</td>\n",
       "      <td>M</td>\n",
       "      <td>20</td>\n",
       "      <td>U</td>\n",
       "      <td>LE3</td>\n",
       "      <td>A</td>\n",
       "      <td>2</td>\n",
       "      <td>2</td>\n",
       "      <td>services</td>\n",
       "      <td>...</td>\n",
       "      <td>no</td>\n",
       "      <td>no</td>\n",
       "      <td>5</td>\n",
       "      <td>5</td>\n",
       "      <td>4</td>\n",
       "      <td>4</td>\n",
       "      <td>5</td>\n",
       "      <td>4</td>\n",
       "      <td>11</td>\n",
       "      <td>9</td>\n",
       "    </tr>\n",
       "    <tr>\n",
       "      <th>353</th>\n",
       "      <td>391</td>\n",
       "      <td>MS</td>\n",
       "      <td>M</td>\n",
       "      <td>17</td>\n",
       "      <td>U</td>\n",
       "      <td>LE3</td>\n",
       "      <td>T</td>\n",
       "      <td>3</td>\n",
       "      <td>1</td>\n",
       "      <td>services</td>\n",
       "      <td>...</td>\n",
       "      <td>yes</td>\n",
       "      <td>no</td>\n",
       "      <td>2</td>\n",
       "      <td>4</td>\n",
       "      <td>5</td>\n",
       "      <td>3</td>\n",
       "      <td>4</td>\n",
       "      <td>2</td>\n",
       "      <td>3</td>\n",
       "      <td>16</td>\n",
       "    </tr>\n",
       "    <tr>\n",
       "      <th>354</th>\n",
       "      <td>392</td>\n",
       "      <td>MS</td>\n",
       "      <td>M</td>\n",
       "      <td>21</td>\n",
       "      <td>R</td>\n",
       "      <td>GT3</td>\n",
       "      <td>T</td>\n",
       "      <td>1</td>\n",
       "      <td>1</td>\n",
       "      <td>other</td>\n",
       "      <td>...</td>\n",
       "      <td>no</td>\n",
       "      <td>no</td>\n",
       "      <td>5</td>\n",
       "      <td>5</td>\n",
       "      <td>3</td>\n",
       "      <td>3</td>\n",
       "      <td>3</td>\n",
       "      <td>3</td>\n",
       "      <td>3</td>\n",
       "      <td>7</td>\n",
       "    </tr>\n",
       "    <tr>\n",
       "      <th>355</th>\n",
       "      <td>393</td>\n",
       "      <td>MS</td>\n",
       "      <td>M</td>\n",
       "      <td>18</td>\n",
       "      <td>R</td>\n",
       "      <td>LE3</td>\n",
       "      <td>T</td>\n",
       "      <td>3</td>\n",
       "      <td>2</td>\n",
       "      <td>services</td>\n",
       "      <td>...</td>\n",
       "      <td>yes</td>\n",
       "      <td>no</td>\n",
       "      <td>4</td>\n",
       "      <td>4</td>\n",
       "      <td>1</td>\n",
       "      <td>3</td>\n",
       "      <td>4</td>\n",
       "      <td>5</td>\n",
       "      <td>0</td>\n",
       "      <td>10</td>\n",
       "    </tr>\n",
       "    <tr>\n",
       "      <th>356</th>\n",
       "      <td>394</td>\n",
       "      <td>MS</td>\n",
       "      <td>M</td>\n",
       "      <td>19</td>\n",
       "      <td>U</td>\n",
       "      <td>LE3</td>\n",
       "      <td>T</td>\n",
       "      <td>1</td>\n",
       "      <td>1</td>\n",
       "      <td>other</td>\n",
       "      <td>...</td>\n",
       "      <td>yes</td>\n",
       "      <td>no</td>\n",
       "      <td>3</td>\n",
       "      <td>2</td>\n",
       "      <td>3</td>\n",
       "      <td>3</td>\n",
       "      <td>3</td>\n",
       "      <td>5</td>\n",
       "      <td>5</td>\n",
       "      <td>9</td>\n",
       "    </tr>\n",
       "  </tbody>\n",
       "</table>\n",
       "<p>357 rows × 32 columns</p>\n",
       "</div>"
      ],
      "text/plain": [
       "     StudentID school sex  age address famsize Pstatus  Medu  Fedu      Mjob  \\\n",
       "0            0     GP   F   18       U     GT3       A     4     4   at_home   \n",
       "1            1     GP   F   17       U     GT3       T     1     1   at_home   \n",
       "2            2     GP   F   15       U     LE3       T     1     1   at_home   \n",
       "3            3     GP   F   15       U     GT3       T     4     2    health   \n",
       "4            4     GP   F   16       U     GT3       T     3     3     other   \n",
       "..         ...    ...  ..  ...     ...     ...     ...   ...   ...       ...   \n",
       "352        390     MS   M   20       U     LE3       A     2     2  services   \n",
       "353        391     MS   M   17       U     LE3       T     3     1  services   \n",
       "354        392     MS   M   21       R     GT3       T     1     1     other   \n",
       "355        393     MS   M   18       R     LE3       T     3     2  services   \n",
       "356        394     MS   M   19       U     LE3       T     1     1     other   \n",
       "\n",
       "     ... internet romantic famrel  freetime  goout  Dalc Walc health absences  \\\n",
       "0    ...       no       no      4         3      4     1    1      3        6   \n",
       "1    ...      yes       no      5         3      3     1    1      3        4   \n",
       "2    ...      yes       no      4         3      2     2    3      3       10   \n",
       "3    ...      yes      yes      3         2      2     1    1      5        2   \n",
       "4    ...       no       no      4         3      2     1    2      5        4   \n",
       "..   ...      ...      ...    ...       ...    ...   ...  ...    ...      ...   \n",
       "352  ...       no       no      5         5      4     4    5      4       11   \n",
       "353  ...      yes       no      2         4      5     3    4      2        3   \n",
       "354  ...       no       no      5         5      3     3    3      3        3   \n",
       "355  ...      yes       no      4         4      1     3    4      5        0   \n",
       "356  ...      yes       no      3         2      3     3    3      5        5   \n",
       "\n",
       "    FinalGrade  \n",
       "0            6  \n",
       "1            6  \n",
       "2           10  \n",
       "3           15  \n",
       "4           10  \n",
       "..         ...  \n",
       "352          9  \n",
       "353         16  \n",
       "354          7  \n",
       "355         10  \n",
       "356          9  \n",
       "\n",
       "[357 rows x 32 columns]"
      ]
     },
     "execution_count": 3,
     "metadata": {},
     "output_type": "execute_result"
    }
   ],
   "source": [
    "df"
   ]
  },
  {
   "cell_type": "code",
   "execution_count": 4,
   "id": "40863af2-4069-4948-963f-31ee4dde955a",
   "metadata": {},
   "outputs": [],
   "source": [
    "import seaborn as sns\n",
    "import numpy as np\n",
    "import matplotlib.pyplot as plt"
   ]
  },
  {
   "cell_type": "code",
   "execution_count": 5,
   "id": "960054e2-6243-4cbe-9fa4-5537652df547",
   "metadata": {},
   "outputs": [
    {
     "data": {
      "image/png": "[encoded data removed]",
      "text/plain": [
       "<Figure size 1008x432 with 2 Axes>"
      ]
     },
     "metadata": {
      "needs_background": "light"
     },
     "output_type": "display_data"
    }
   ],
   "source": [
    "df_new = df.drop(\"StudentID\", axis = 1)\n",
    "plt.figure(figsize=(14, 6))\n",
    "h_map = sns.heatmap(df_new.corr(), mask=np.triu(df_new.corr()), annot=True, cmap='Blues')\n",
    "plt.show()"
   ]
  },
  {
   "cell_type": "code",
   "execution_count": 7,
   "id": "ed569567-23a5-4a15-8ff3-5e2122992676",
   "metadata": {},
   "outputs": [
    {
     "data": {
      "text/html": [
       "<table class=\"simpletable\">\n",
       "<caption>OLS Regression Results</caption>\n",
       "<tr>\n",
       "  <th>Dep. Variable:</th>       <td>FinalGrade</td>    <th>  R-squared (uncentered):</th>      <td>   0.936</td> \n",
       "</tr>\n",
       "<tr>\n",
       "  <th>Model:</th>                   <td>OLS</td>       <th>  Adj. R-squared (uncentered):</th> <td>   0.934</td> \n",
       "</tr>\n",
       "<tr>\n",
       "  <th>Method:</th>             <td>Least Squares</td>  <th>  F-statistic:       </th>          <td>   387.7</td> \n",
       "</tr>\n",
       "<tr>\n",
       "  <th>Date:</th>             <td>Sun, 12 Jun 2022</td> <th>  Prob (F-statistic):</th>          <td>1.86e-196</td>\n",
       "</tr>\n",
       "<tr>\n",
       "  <th>Time:</th>                 <td>20:47:35</td>     <th>  Log-Likelihood:    </th>          <td> -901.71</td> \n",
       "</tr>\n",
       "<tr>\n",
       "  <th>No. Observations:</th>      <td>   357</td>      <th>  AIC:               </th>          <td>   1829.</td> \n",
       "</tr>\n",
       "<tr>\n",
       "  <th>Df Residuals:</th>          <td>   344</td>      <th>  BIC:               </th>          <td>   1880.</td> \n",
       "</tr>\n",
       "<tr>\n",
       "  <th>Df Model:</th>              <td>    13</td>      <th>                     </th>              <td> </td>    \n",
       "</tr>\n",
       "<tr>\n",
       "  <th>Covariance Type:</th>      <td>nonrobust</td>    <th>                     </th>              <td> </td>    \n",
       "</tr>\n",
       "</table>\n",
       "<table class=\"simpletable\">\n",
       "<tr>\n",
       "       <td></td>         <th>coef</th>     <th>std err</th>      <th>t</th>      <th>P>|t|</th>  <th>[0.025</th>    <th>0.975]</th>  \n",
       "</tr>\n",
       "<tr>\n",
       "  <th>Medu</th>       <td>    0.5698</td> <td>    0.191</td> <td>    2.982</td> <td> 0.003</td> <td>    0.194</td> <td>    0.946</td>\n",
       "</tr>\n",
       "<tr>\n",
       "  <th>Fedu</th>       <td>    0.1850</td> <td>    0.194</td> <td>    0.955</td> <td> 0.340</td> <td>   -0.196</td> <td>    0.566</td>\n",
       "</tr>\n",
       "<tr>\n",
       "  <th>Dalc</th>       <td>   -0.1360</td> <td>    0.238</td> <td>   -0.571</td> <td> 0.569</td> <td>   -0.605</td> <td>    0.333</td>\n",
       "</tr>\n",
       "<tr>\n",
       "  <th>Walc</th>       <td>    0.0079</td> <td>    0.183</td> <td>    0.043</td> <td> 0.966</td> <td>   -0.353</td> <td>    0.369</td>\n",
       "</tr>\n",
       "<tr>\n",
       "  <th>absences</th>   <td>   -0.0786</td> <td>    0.021</td> <td>   -3.770</td> <td> 0.000</td> <td>   -0.120</td> <td>   -0.038</td>\n",
       "</tr>\n",
       "<tr>\n",
       "  <th>famrel</th>     <td>    0.2408</td> <td>    0.188</td> <td>    1.278</td> <td> 0.202</td> <td>   -0.130</td> <td>    0.611</td>\n",
       "</tr>\n",
       "<tr>\n",
       "  <th>freetime</th>   <td>    0.3027</td> <td>    0.173</td> <td>    1.747</td> <td> 0.081</td> <td>   -0.038</td> <td>    0.643</td>\n",
       "</tr>\n",
       "<tr>\n",
       "  <th>health</th>     <td>   -0.0597</td> <td>    0.117</td> <td>   -0.508</td> <td> 0.611</td> <td>   -0.291</td> <td>    0.171</td>\n",
       "</tr>\n",
       "<tr>\n",
       "  <th>failures</th>   <td>   -1.1001</td> <td>    0.266</td> <td>   -4.142</td> <td> 0.000</td> <td>   -1.622</td> <td>   -0.578</td>\n",
       "</tr>\n",
       "<tr>\n",
       "  <th>goout</th>      <td>   -0.4563</td> <td>    0.177</td> <td>   -2.577</td> <td> 0.010</td> <td>   -0.805</td> <td>   -0.108</td>\n",
       "</tr>\n",
       "<tr>\n",
       "  <th>age</th>        <td>    0.5517</td> <td>    0.071</td> <td>    7.779</td> <td> 0.000</td> <td>    0.412</td> <td>    0.691</td>\n",
       "</tr>\n",
       "<tr>\n",
       "  <th>studytime</th>  <td>    0.4091</td> <td>    0.206</td> <td>    1.990</td> <td> 0.047</td> <td>    0.005</td> <td>    0.813</td>\n",
       "</tr>\n",
       "<tr>\n",
       "  <th>traveltime</th> <td>    0.0405</td> <td>    0.246</td> <td>    0.165</td> <td> 0.869</td> <td>   -0.443</td> <td>    0.524</td>\n",
       "</tr>\n",
       "</table>\n",
       "<table class=\"simpletable\">\n",
       "<tr>\n",
       "  <th>Omnibus:</th>       <td> 1.565</td> <th>  Durbin-Watson:     </th> <td>   2.000</td>\n",
       "</tr>\n",
       "<tr>\n",
       "  <th>Prob(Omnibus):</th> <td> 0.457</td> <th>  Jarque-Bera (JB):  </th> <td>   1.579</td>\n",
       "</tr>\n",
       "<tr>\n",
       "  <th>Skew:</th>          <td> 0.101</td> <th>  Prob(JB):          </th> <td>   0.454</td>\n",
       "</tr>\n",
       "<tr>\n",
       "  <th>Kurtosis:</th>      <td> 2.745</td> <th>  Cond. No.          </th> <td>    34.8</td>\n",
       "</tr>\n",
       "</table><br/><br/>Notes:<br/>[1] R² is computed without centering (uncentered) since the model does not contain a constant.<br/>[2] Standard Errors assume that the covariance matrix of the errors is correctly specified."
      ],
      "text/plain": [
       "<class 'statsmodels.iolib.summary.Summary'>\n",
       "\"\"\"\n",
       "                                 OLS Regression Results                                \n",
       "=======================================================================================\n",
       "Dep. Variable:             FinalGrade   R-squared (uncentered):                   0.936\n",
       "Model:                            OLS   Adj. R-squared (uncentered):              0.934\n",
       "Method:                 Least Squares   F-statistic:                              387.7\n",
       "Date:                Sun, 12 Jun 2022   Prob (F-statistic):                   1.86e-196\n",
       "Time:                        20:47:35   Log-Likelihood:                         -901.71\n",
       "No. Observations:                 357   AIC:                                      1829.\n",
       "Df Residuals:                     344   BIC:                                      1880.\n",
       "Df Model:                          13                                                  \n",
       "Covariance Type:            nonrobust                                                  \n",
       "==============================================================================\n",
       "                 coef    std err          t      P>|t|      [0.025      0.975]\n",
       "------------------------------------------------------------------------------\n",
       "Medu           0.5698      0.191      2.982      0.003       0.194       0.946\n",
       "Fedu           0.1850      0.194      0.955      0.340      -0.196       0.566\n",
       "Dalc          -0.1360      0.238     -0.571      0.569      -0.605       0.333\n",
       "Walc           0.0079      0.183      0.043      0.966      -0.353       0.369\n",
       "absences      -0.0786      0.021     -3.770      0.000      -0.120      -0.038\n",
       "famrel         0.2408      0.188      1.278      0.202      -0.130       0.611\n",
       "freetime       0.3027      0.173      1.747      0.081      -0.038       0.643\n",
       "health        -0.0597      0.117     -0.508      0.611      -0.291       0.171\n",
       "failures      -1.1001      0.266     -4.142      0.000      -1.622      -0.578\n",
       "goout         -0.4563      0.177     -2.577      0.010      -0.805      -0.108\n",
       "age            0.5517      0.071      7.779      0.000       0.412       0.691\n",
       "studytime      0.4091      0.206      1.990      0.047       0.005       0.813\n",
       "traveltime     0.0405      0.246      0.165      0.869      -0.443       0.524\n",
       "==============================================================================\n",
       "Omnibus:                        1.565   Durbin-Watson:                   2.000\n",
       "Prob(Omnibus):                  0.457   Jarque-Bera (JB):                1.579\n",
       "Skew:                           0.101   Prob(JB):                        0.454\n",
       "Kurtosis:                       2.745   Cond. No.                         34.8\n",
       "==============================================================================\n",
       "\n",
       "Notes:\n",
       "[1] R² is computed without centering (uncentered) since the model does not contain a constant.\n",
       "[2] Standard Errors assume that the covariance matrix of the errors is correctly specified.\n",
       "\"\"\""
      ]
     },
     "execution_count": 7,
     "metadata": {},
     "output_type": "execute_result"
    }
   ],
   "source": [
    "import statsmodels.api as sm\n",
    "X = df[['Medu','Fedu','Dalc','Walc','absences','famrel','freetime','health','failures','goout','age','studytime','traveltime',]]\n",
    "y = df.FinalGrade\n",
    "mod = sm.OLS(y, X)\n",
    "results = mod.fit()\n",
    "results.summary()"
   ]
  },
  {
   "cell_type": "code",
   "execution_count": 18,
   "id": "da272c58-0019-467f-a9c9-f3d32b2ea849",
   "metadata": {},
   "outputs": [],
   "source": [
    "df[\"ImprovabilityScore\"] = (df[\"traveltime\"]+1.4*df[\"age\"]+2.9*df[\"failures\"]+1.8*df[\"goout\"]+1.4*df[\"Dalc\"]+1.9*df[\"Walc\"]+2.1*df[\"absences\"]/18.6-1.3*df[\"studytime\"]*1.25-1.9*df[\"Medu\"]-1.6*df[\"Fedu\"]-10.3)/8.1"
   ]
  },
  {
   "cell_type": "code",
   "execution_count": 19,
   "id": "5834b3fa-df55-42ba-93cd-c8c504335ca2",
   "metadata": {},
   "outputs": [],
   "source": [
    "df.to_csv(\"student_data2.csv\")"
   ]
  },
  {
   "cell_type": "code",
   "execution_count": 20,
   "id": "03f22143-3d38-47b1-95f6-f660ff60c13a",
   "metadata": {},
   "outputs": [
    {
     "data": {
      "application/vnd.plotly.v1+json": {
       "config": {
        "plotlyServerURL": "https://plot.ly"
       },
       "data": [
        {
         "hovertemplate": "<b>Student ID: %{text}</b><br><br>Improvability score: %{y:.1f}<br>Final grade: %{x:.f}<br>",
         "mode": "markers",
         "text": [
          0,
          1,
          2,
          3,
          4,
          5,
          6,
          7,
          8,
          9,
          10,
          11,
          12,
          13,
          14,
          15,
          16,
          17,
          18,
          19,
          20,
          21,
          22,
          23,
          24,
          25,
          26,
          27,
          28,
          29,
          30,
          31,
          32,
          33,
          34,
          35,
          36,
          37,
          38,
          39,
          40,
          41,
          42,
          43,
          44,
          45,
          46,
          47,
          48,
          49,
          50,
          51,
          52,
          53,
          54,
          55,
          56,
          57,
          58,
          59,
          60,
          61,
          62,
          63,
          64,
          65,
          66,
          67,
          68,
          69,
          70,
          71,
          72,
          73,
          74,
          75,
          76,
          77,
          78,
          79,
          80,
          81,
          82,
          83,
          84,
          85,
          86,
          87,
          88,
          89,
          90,
          91,
          92,
          93,
          94,
          95,
          96,
          97,
          98,
          99,
          100,
          101,
          102,
          103,
          104,
          105,
          106,
          107,
          108,
          109,
          110,
          111,
          112,
          113,
          114,
          115,
          116,
          117,
          118,
          119,
          120,
          121,
          122,
          123,
          124,
          125,
          126,
          127,
          129,
          132,
          133,
          138,
          139,
          141,
          142,
          143,
          145,
          147,
          149,
          151,
          152,
          154,
          155,
          156,
          157,
          158,
          159,
          161,
          163,
          164,
          165,
          166,
          167,
          169,
          171,
          172,
          174,
          175,
          176,
          177,
          178,
          179,
          180,
          181,
          182,
          183,
          184,
          185,
          186,
          187,
          188,
          189,
          190,
          191,
          192,
          193,
          194,
          195,
          196,
          197,
          198,
          199,
          200,
          201,
          202,
          203,
          204,
          205,
          206,
          207,
          208,
          209,
          210,
          211,
          212,
          213,
          214,
          215,
          216,
          217,
          218,
          219,
          220,
          222,
          223,
          224,
          225,
          226,
          227,
          228,
          229,
          230,
          231,
          232,
          233,
          234,
          235,
          236,
          237,
          238,
          240,
          241,
          243,
          245,
          246,
          247,
          248,
          249,
          250,
          251,
          252,
          253,
          254,
          255,
          256,
          257,
          258,
          260,
          261,
          262,
          263,
          265,
          266,
          267,
          268,
          270,
          271,
          272,
          273,
          274,
          275,
          276,
          277,
          278,
          279,
          280,
          281,
          282,
          283,
          284,
          285,
          286,
          287,
          288,
          289,
          290,
          291,
          292,
          293,
          294,
          295,
          297,
          298,
          299,
          300,
          301,
          302,
          303,
          304,
          305,
          306,
          307,
          308,
          309,
          311,
          312,
          313,
          314,
          315,
          317,
          318,
          319,
          320,
          321,
          322,
          323,
          324,
          325,
          326,
          327,
          328,
          329,
          330,
          331,
          335,
          336,
          338,
          339,
          340,
          342,
          344,
          345,
          346,
          347,
          348,
          349,
          350,
          351,
          352,
          353,
          354,
          355,
          356,
          357,
          358,
          359,
          360,
          361,
          362,
          363,
          364,
          365,
          366,
          368,
          369,
          370,
          371,
          372,
          373,
          374,
          375,
          376,
          377,
          378,
          379,
          380,
          381,
          382,
          384,
          385,
          386,
          388,
          390,
          391,
          392,
          393,
          394
         ],
         "type": "scatter",
         "x": [
          6,
          6,
          10,
          15,
          10,
          15,
          11,
          6,
          19,
          15,
          9,
          12,
          14,
          11,
          16,
          14,
          14,
          10,
          5,
          10,
          15,
          15,
          16,
          12,
          8,
          8,
          11,
          15,
          11,
          11,
          12,
          17,
          16,
          12,
          15,
          6,
          18,
          15,
          11,
          13,
          11,
          12,
          18,
          11,
          9,
          6,
          11,
          20,
          14,
          7,
          13,
          13,
          10,
          11,
          13,
          10,
          15,
          15,
          9,
          16,
          11,
          11,
          9,
          9,
          10,
          15,
          12,
          6,
          8,
          16,
          15,
          10,
          5,
          14,
          11,
          10,
          10,
          11,
          10,
          5,
          12,
          11,
          6,
          15,
          10,
          8,
          6,
          14,
          10,
          7,
          8,
          18,
          6,
          10,
          14,
          10,
          15,
          10,
          14,
          8,
          5,
          17,
          14,
          6,
          18,
          11,
          8,
          18,
          13,
          16,
          19,
          10,
          13,
          19,
          9,
          16,
          14,
          13,
          8,
          13,
          15,
          15,
          13,
          13,
          8,
          12,
          11,
          9,
          18,
          12,
          11,
          12,
          15,
          9,
          11,
          13,
          11,
          11,
          10,
          14,
          10,
          12,
          8,
          13,
          10,
          15,
          12,
          7,
          10,
          7,
          12,
          10,
          16,
          14,
          16,
          10,
          9,
          9,
          11,
          6,
          9,
          11,
          8,
          12,
          17,
          8,
          12,
          11,
          11,
          15,
          9,
          10,
          13,
          9,
          8,
          10,
          14,
          15,
          16,
          10,
          18,
          10,
          16,
          10,
          10,
          6,
          11,
          9,
          7,
          13,
          10,
          7,
          8,
          13,
          14,
          8,
          10,
          15,
          4,
          8,
          8,
          10,
          6,
          17,
          13,
          14,
          7,
          15,
          12,
          9,
          12,
          14,
          11,
          9,
          13,
          6,
          10,
          13,
          12,
          11,
          12,
          12,
          12,
          18,
          13,
          8,
          5,
          15,
          8,
          10,
          8,
          8,
          12,
          8,
          13,
          11,
          14,
          18,
          8,
          12,
          9,
          17,
          10,
          11,
          10,
          9,
          14,
          11,
          14,
          10,
          12,
          9,
          9,
          8,
          10,
          8,
          10,
          12,
          10,
          11,
          11,
          19,
          12,
          14,
          15,
          11,
          15,
          13,
          18,
          14,
          11,
          8,
          14,
          16,
          11,
          10,
          14,
          18,
          13,
          12,
          18,
          8,
          12,
          10,
          13,
          11,
          11,
          13,
          11,
          9,
          10,
          11,
          13,
          9,
          11,
          15,
          15,
          11,
          16,
          10,
          9,
          14,
          8,
          14,
          15,
          13,
          17,
          10,
          11,
          15,
          10,
          14,
          16,
          9,
          15,
          13,
          8,
          13,
          8,
          8,
          11,
          9,
          13,
          11,
          10,
          16,
          13,
          12,
          10,
          15,
          12,
          10,
          13,
          10,
          11,
          9,
          12,
          11,
          5,
          19,
          10,
          15,
          10,
          15,
          10,
          14,
          7,
          10,
          5,
          10,
          6,
          8,
          9,
          16,
          7,
          10,
          9
         ],
         "y": [
          1.3367184388689761,
          2.086618876941457,
          3.318399044205495,
          0.38898845081640754,
          1.0619275189167658,
          0.910991636798088,
          1.648148148148148,
          1.163878932696137,
          0.7962962962962963,
          0.17901234567901206,
          0.6234567901234558,
          1.3304460374352844,
          1.0865193150139387,
          0.9723217841497402,
          0.8302469135802467,
          1.274890481879729,
          0.6793110314615682,
          1.0742731979291116,
          4.182895260852249,
          1.4847670250896046,
          0.14197530864197513,
          0.3672839506172835,
          1.0093588211867779,
          2.648148148148149,
          0.4630625248904816,
          2.7846475507765818,
          1.4939267224213462,
          2.139088012743927,
          0.8520509757068889,
          2.858821186778176,
          1.2160493827160492,
          0.0679012345679011,
          0.36419753086419704,
          0.5987654320987652,
          1.3919753086419748,
          0.9351851851851847,
          0.4136798088410984,
          0.5821385902031052,
          0.22849462365591386,
          1.1207686180804457,
          2.490442054958183,
          1.577558741537236,
          0.41676622859418483,
          1.0092592592592589,
          2.5099561927518907,
          0.47570688968538416,
          2.3092393468737544,
          0.19155714854639533,
          1.2192353643966547,
          0.9970131421744324,
          2.342692154520112,
          0.8118279569892467,
          3.043508562325766,
          1.453703703703704,
          2.549681401831939,
          1.9571883711668656,
          0.36419753086419704,
          0.22242134607725975,
          1.2933094384707289,
          0.9846674631620861,
          1.5095579450418155,
          4.586718438868977,
          1.7162485065710869,
          1.685284747112704,
          1.6851851851851851,
          1.2686180804460363,
          1.6730386300278772,
          1.2779769016328149,
          1.8735563520509757,
          1.5252887295898045,
          0.8888888888888884,
          0.38271604938271536,
          3.5278773397052965,
          1.8025686977299882,
          2.6230585424133808,
          1.3120270808442849,
          1.012743926722421,
          1.493827160493826,
          2.7778773397052965,
          1.1981282357626428,
          1.5309637594583834,
          0.9230386300278773,
          1.3801274392672238,
          1.9014336917562726,
          2.1328156113102352,
          2.176224611708483,
          1.9384707287933092,
          1.1082238152130626,
          1.8524492234169645,
          2.096575069693349,
          1.2623456790123446,
          1.7563719633612098,
          2.0866188769414573,
          1.0802469135802462,
          1.1577060931899643,
          1.5710872162485063,
          1.111210673038629,
          2.095778574273197,
          1.3027678215850258,
          1.0030864197530855,
          3.031561131023496,
          0.3611111111111101,
          0.6452608522500989,
          1.948825169255277,
          0.8456790123456788,
          0.559139784946236,
          0.741138988450816,
          0.8210872162485059,
          2.1700517722023105,
          0.8613102349661486,
          0.6731381919553957,
          0.9290123456790118,
          1.6453604141776181,
          0.9017323775388293,
          1.3399044205495814,
          1.0463958582238149,
          0.5402230187176417,
          1.0956790123456785,
          3.445440063719633,
          1.1422739944245315,
          1.7500995619275186,
          1.3922739944245321,
          1.1945440063719626,
          1.939167662285941,
          1.648148148148148,
          1.8487654320987652,
          0.40123456790123435,
          3.4908403026682593,
          2.429410593389088,
          2.6580047789725203,
          1.4791915571485454,
          2.9074074074074066,
          0.49074074074074026,
          2.9849661489446433,
          -0.006073277578654321,
          3.1235563520509757,
          1.6975308641975309,
          1.2933094384707289,
          4.651234567901234,
          3.7719036240541626,
          1.7689167662285938,
          0.49074074074074026,
          1.3056551174830744,
          2.73805256869773,
          5.191656710473914,
          1.9136798088410987,
          3.074273197929112,
          2.8675826363998413,
          2.56800079649542,
          4.8580246913580245,
          1.8742532855436076,
          2.8026682596575068,
          0.9567901234567893,
          0.3395061728395055,
          1.9846674631620866,
          1.4259259259259252,
          1.6174830744723214,
          2.555754679410594,
          2.503185981680606,
          2.1483472720031855,
          2.346176821983274,
          0.9878534448426911,
          1.540621266427717,
          1.256272401433691,
          1.6234567901234562,
          2.589207487056948,
          1.3988450816407798,
          2.1981282357626446,
          2.1235563520509753,
          1.8580246913580236,
          1.7194344882516925,
          2.827359617682198,
          1.3677817602548772,
          2.0308641975308634,
          3.8030665073675824,
          2.133114297092791,
          1.5524691358024683,
          0.9814814814814805,
          1.2255077658303455,
          3.0590402230187177,
          2.6153922739944235,
          0.5740740740740733,
          2.1698526483472715,
          1.7811628833134199,
          2.7779769016328153,
          2.062624452409398,
          1.6762246117084825,
          2.5662086818000795,
          2.940063719633611,
          0.6764237355635203,
          2.7472122660294707,
          0.7163480684986056,
          1.4850657108721623,
          2.817005177220231,
          1.648148148148148,
          3.43747510951812,
          0.892572680207088,
          2.2068896853843087,
          3.275786539227399,
          2.9774990043807255,
          2.4708283552369568,
          1.453902827558741,
          2.6266427718040615,
          0.8118279569892467,
          3.5246913580246915,
          0.13888888888888823,
          2.3156113102349654,
          2.1949422540820382,
          1.8982477100756667,
          3.7692154520111507,
          2.0930904022301853,
          1.361808044603742,
          1.555754679410593,
          1.8432895260852236,
          1.6883711668657906,
          2.0101553166069293,
          1.7227200318598155,
          3.0619275189167663,
          1.880625248904818,
          1.6266427718040608,
          2.3988450816407796,
          1.5278773397052954,
          0.7746913580246908,
          2.154619673436877,
          1.5588410991636792,
          5.997710075667065,
          2.2781760254878525,
          2.7499999999999996,
          3.540123456790123,
          1.7935085623257658,
          4.139088012743926,
          2.1944444444444433,
          2.6512345679012346,
          3.197630426125049,
          0.8120270808442844,
          1.0005973715651122,
          2.5374352847471124,
          1.6445639187574663,
          0.9105933890880127,
          1.1281362007168458,
          1.021804062126642,
          2.9404619673436896,
          2.86121067303863,
          1.77200318598168,
          2.355436081242532,
          3.6967343687773804,
          2.142174432497013,
          2.355037833532457,
          2.0463958582238155,
          1.355037833532456,
          2.6700517722023105,
          2.2614496216646756,
          2.464058144165671,
          1.696734368777379,
          1.7750896057347667,
          3.1681600955794496,
          3.4592791716447624,
          1.7176423735563517,
          2.605137395459976,
          2.333532457188371,
          2.293309438470728,
          1.8752489048187968,
          1.9138789326961363,
          2.543508562325767,
          1.0328554360812423,
          1.9372759856630821,
          0.7438271604938261,
          2.49442453205894,
          1.1453604141776181,
          1.3491636798088418,
          1.892174432497013,
          2.0467941059338908,
          0.7037037037037032,
          1.3629032258064513,
          1.3247710075667056,
          1.0216049382716044,
          1.052469135802468,
          0.9753086419753081,
          2.3713659896455583,
          1.8460772600557542,
          2.083333333333333,
          2.514237355635204,
          2.104938271604937,
          3.454599761051374,
          2.2232178414974104,
          2.7640382317801655,
          2.510354440461967,
          2.8648944643568295,
          2.239645559538032,
          1.2519912385503775,
          2.101851851851851,
          1.972321784149741,
          1.2650338510553552,
          1.5438072481083225,
          1.625149342891278,
          2.017025089605733,
          2.6327160493827146,
          1.1560135404221417,
          3.1374950219036246,
          4.355336519315014,
          1.3228793309438462,
          0.9477299880525678,
          2.719235364396655,
          1.1006571087216235,
          1.9051174830744717,
          2.466646754281162,
          1.0358422939068097,
          2.061927518916765,
          3.0464954201513343,
          1.7644364794902432,
          1.6637793707686177,
          2.0759657506969327,
          1.0421146953405014,
          1.990740740740741,
          1.2006172839506166,
          4.432596575069692,
          4.846077260055757,
          2.182198327359618,
          3.1068299482277983,
          4.274890481879731,
          2.024890481879728,
          1.5617283950617278,
          1.148347272003185,
          1.7500995619275181,
          2.595878136200717,
          1.9043209876543212,
          2.783950617283951,
          3.3550378335324575,
          1.7098765432098773,
          0.9567901234567897,
          1.9691358024691354,
          3.0866188769414573,
          1.015432098765432,
          2.132716049382716,
          1.8245718837116685,
          2.3829151732377536,
          3.137495021903623,
          1.5096575069693343,
          3.1426722421346063,
          1.0524691358024685,
          2.4136798088410982,
          2.3427917164476297,
          2.0125448028673834,
          1.5740740740740737,
          2.6628833134209478,
          1.8890880127439267,
          2.8320390282755876,
          1.552568697729987,
          3.167363600159298,
          2.1914575866188772,
          1.8599163679808834,
          1.9567901234567895,
          4.665671047391478,
          3.4214456391875743,
          4.853544404619671,
          2.5895061728395072,
          3.4616686579052174
         ]
        }
       ],
       "layout": {
        "autosize": true,
        "template": {
         "data": {
          "bar": [
           {
            "error_x": {
             "color": "#2a3f5f"
            },
            "error_y": {
             "color": "#2a3f5f"
            },
            "marker": {
             "line": {
              "color": "#E5ECF6",
              "width": 0.5
             },
             "pattern": {
              "fillmode": "overlay",
              "size": 10,
              "solidity": 0.2
             }
            },
            "type": "bar"
           }
          ],
          "barpolar": [
           {
            "marker": {
             "line": {
              "color": "#E5ECF6",
              "width": 0.5
             },
             "pattern": {
              "fillmode": "overlay",
              "size": 10,
              "solidity": 0.2
             }
            },
            "type": "barpolar"
           }
          ],
          "carpet": [
           {
            "aaxis": {
             "endlinecolor": "#2a3f5f",
             "gridcolor": "white",
             "linecolor": "white",
             "minorgridcolor": "white",
             "startlinecolor": "#2a3f5f"
            },
            "baxis": {
             "endlinecolor": "#2a3f5f",
             "gridcolor": "white",
             "linecolor": "white",
             "minorgridcolor": "white",
             "startlinecolor": "#2a3f5f"
            },
            "type": "carpet"
           }
          ],
          "choropleth": [
           {
            "colorbar": {
             "outlinewidth": 0,
             "ticks": ""
            },
            "type": "choropleth"
           }
          ],
          "contour": [
           {
            "colorbar": {
             "outlinewidth": 0,
             "ticks": ""
            },
            "colorscale": [
             [
              0,
              "#0d0887"
             ],
             [
              0.1111111111111111,
              "#46039f"
             ],
             [
              0.2222222222222222,
              "#7201a8"
             ],
             [
              0.3333333333333333,
              "#9c179e"
             ],
             [
              0.4444444444444444,
              "#bd3786"
             ],
             [
              0.5555555555555556,
              "#d8576b"
             ],
             [
              0.6666666666666666,
              "#ed7953"
             ],
             [
              0.7777777777777778,
              "#fb9f3a"
             ],
             [
              0.8888888888888888,
              "#fdca26"
             ],
             [
              1,
              "#f0f921"
             ]
            ],
            "type": "contour"
           }
          ],
          "contourcarpet": [
           {
            "colorbar": {
             "outlinewidth": 0,
             "ticks": ""
            },
            "type": "contourcarpet"
           }
          ],
          "heatmap": [
           {
            "colorbar": {
             "outlinewidth": 0,
             "ticks": ""
            },
            "colorscale": [
             [
              0,
              "#0d0887"
             ],
             [
              0.1111111111111111,
              "#46039f"
             ],
             [
              0.2222222222222222,
              "#7201a8"
             ],
             [
              0.3333333333333333,
              "#9c179e"
             ],
             [
              0.4444444444444444,
              "#bd3786"
             ],
             [
              0.5555555555555556,
              "#d8576b"
             ],
             [
              0.6666666666666666,
              "#ed7953"
             ],
             [
              0.7777777777777778,
              "#fb9f3a"
             ],
             [
              0.8888888888888888,
              "#fdca26"
             ],
             [
              1,
              "#f0f921"
             ]
            ],
            "type": "heatmap"
           }
          ],
          "heatmapgl": [
           {
            "colorbar": {
             "outlinewidth": 0,
             "ticks": ""
            },
            "colorscale": [
             [
              0,
              "#0d0887"
             ],
             [
              0.1111111111111111,
              "#46039f"
             ],
             [
              0.2222222222222222,
              "#7201a8"
             ],
             [
              0.3333333333333333,
              "#9c179e"
             ],
             [
              0.4444444444444444,
              "#bd3786"
             ],
             [
              0.5555555555555556,
              "#d8576b"
             ],
             [
              0.6666666666666666,
              "#ed7953"
             ],
             [
              0.7777777777777778,
              "#fb9f3a"
             ],
             [
              0.8888888888888888,
              "#fdca26"
             ],
             [
              1,
              "#f0f921"
             ]
            ],
            "type": "heatmapgl"
           }
          ],
          "histogram": [
           {
            "marker": {
             "pattern": {
              "fillmode": "overlay",
              "size": 10,
              "solidity": 0.2
             }
            },
            "type": "histogram"
           }
          ],
          "histogram2d": [
           {
            "colorbar": {
             "outlinewidth": 0,
             "ticks": ""
            },
            "colorscale": [
             [
              0,
              "#0d0887"
             ],
             [
              0.1111111111111111,
              "#46039f"
             ],
             [
              0.2222222222222222,
              "#7201a8"
             ],
             [
              0.3333333333333333,
              "#9c179e"
             ],
             [
              0.4444444444444444,
              "#bd3786"
             ],
             [
              0.5555555555555556,
              "#d8576b"
             ],
             [
              0.6666666666666666,
              "#ed7953"
             ],
             [
              0.7777777777777778,
              "#fb9f3a"
             ],
             [
              0.8888888888888888,
              "#fdca26"
             ],
             [
              1,
              "#f0f921"
             ]
            ],
            "type": "histogram2d"
           }
          ],
          "histogram2dcontour": [
           {
            "colorbar": {
             "outlinewidth": 0,
             "ticks": ""
            },
            "colorscale": [
             [
              0,
              "#0d0887"
             ],
             [
              0.1111111111111111,
              "#46039f"
             ],
             [
              0.2222222222222222,
              "#7201a8"
             ],
             [
              0.3333333333333333,
              "#9c179e"
             ],
             [
              0.4444444444444444,
              "#bd3786"
             ],
             [
              0.5555555555555556,
              "#d8576b"
             ],
             [
              0.6666666666666666,
              "#ed7953"
             ],
             [
              0.7777777777777778,
              "#fb9f3a"
             ],
             [
              0.8888888888888888,
              "#fdca26"
             ],
             [
              1,
              "#f0f921"
             ]
            ],
            "type": "histogram2dcontour"
           }
          ],
          "mesh3d": [
           {
            "colorbar": {
             "outlinewidth": 0,
             "ticks": ""
            },
            "type": "mesh3d"
           }
          ],
          "parcoords": [
           {
            "line": {
             "colorbar": {
              "outlinewidth": 0,
              "ticks": ""
             }
            },
            "type": "parcoords"
           }
          ],
          "pie": [
           {
            "automargin": true,
            "type": "pie"
           }
          ],
          "scatter": [
           {
            "fillpattern": {
             "fillmode": "overlay",
             "size": 10,
             "solidity": 0.2
            },
            "type": "scatter"
           }
          ],
          "scatter3d": [
           {
            "line": {
             "colorbar": {
              "outlinewidth": 0,
              "ticks": ""
             }
            },
            "marker": {
             "colorbar": {
              "outlinewidth": 0,
              "ticks": ""
             }
            },
            "type": "scatter3d"
           }
          ],
          "scattercarpet": [
           {
            "marker": {
             "colorbar": {
              "outlinewidth": 0,
              "ticks": ""
             }
            },
            "type": "scattercarpet"
           }
          ],
          "scattergeo": [
           {
            "marker": {
             "colorbar": {
              "outlinewidth": 0,
              "ticks": ""
             }
            },
            "type": "scattergeo"
           }
          ],
          "scattergl": [
           {
            "marker": {
             "colorbar": {
              "outlinewidth": 0,
              "ticks": ""
             }
            },
            "type": "scattergl"
           }
          ],
          "scattermapbox": [
           {
            "marker": {
             "colorbar": {
              "outlinewidth": 0,
              "ticks": ""
             }
            },
            "type": "scattermapbox"
           }
          ],
          "scatterpolar": [
           {
            "marker": {
             "colorbar": {
              "outlinewidth": 0,
              "ticks": ""
             }
            },
            "type": "scatterpolar"
           }
          ],
          "scatterpolargl": [
           {
            "marker": {
             "colorbar": {
              "outlinewidth": 0,
              "ticks": ""
             }
            },
            "type": "scatterpolargl"
           }
          ],
          "scatterternary": [
           {
            "marker": {
             "colorbar": {
              "outlinewidth": 0,
              "ticks": ""
             }
            },
            "type": "scatterternary"
           }
          ],
          "surface": [
           {
            "colorbar": {
             "outlinewidth": 0,
             "ticks": ""
            },
            "colorscale": [
             [
              0,
              "#0d0887"
             ],
             [
              0.1111111111111111,
              "#46039f"
             ],
             [
              0.2222222222222222,
              "#7201a8"
             ],
             [
              0.3333333333333333,
              "#9c179e"
             ],
             [
              0.4444444444444444,
              "#bd3786"
             ],
             [
              0.5555555555555556,
              "#d8576b"
             ],
             [
              0.6666666666666666,
              "#ed7953"
             ],
             [
              0.7777777777777778,
              "#fb9f3a"
             ],
             [
              0.8888888888888888,
              "#fdca26"
             ],
             [
              1,
              "#f0f921"
             ]
            ],
            "type": "surface"
           }
          ],
          "table": [
           {
            "cells": {
             "fill": {
              "color": "#EBF0F8"
             },
             "line": {
              "color": "white"
             }
            },
            "header": {
             "fill": {
              "color": "#C8D4E3"
             },
             "line": {
              "color": "white"
             }
            },
            "type": "table"
           }
          ]
         },
         "layout": {
          "annotationdefaults": {
           "arrowcolor": "#2a3f5f",
           "arrowhead": 0,
           "arrowwidth": 1
          },
          "autotypenumbers": "strict",
          "coloraxis": {
           "colorbar": {
            "outlinewidth": 0,
            "ticks": ""
           }
          },
          "colorscale": {
           "diverging": [
            [
             0,
             "#8e0152"
            ],
            [
             0.1,
             "#c51b7d"
            ],
            [
             0.2,
             "#de77ae"
            ],
            [
             0.3,
             "#f1b6da"
            ],
            [
             0.4,
             "#fde0ef"
            ],
            [
             0.5,
             "#f7f7f7"
            ],
            [
             0.6,
             "#e6f5d0"
            ],
            [
             0.7,
             "#b8e186"
            ],
            [
             0.8,
             "#7fbc41"
            ],
            [
             0.9,
             "#4d9221"
            ],
            [
             1,
             "#276419"
            ]
           ],
           "sequential": [
            [
             0,
             "#0d0887"
            ],
            [
             0.1111111111111111,
             "#46039f"
            ],
            [
             0.2222222222222222,
             "#7201a8"
            ],
            [
             0.3333333333333333,
             "#9c179e"
            ],
            [
             0.4444444444444444,
             "#bd3786"
            ],
            [
             0.5555555555555556,
             "#d8576b"
            ],
            [
             0.6666666666666666,
             "#ed7953"
            ],
            [
             0.7777777777777778,
             "#fb9f3a"
            ],
            [
             0.8888888888888888,
             "#fdca26"
            ],
            [
             1,
             "#f0f921"
            ]
           ],
           "sequentialminus": [
            [
             0,
             "#0d0887"
            ],
            [
             0.1111111111111111,
             "#46039f"
            ],
            [
             0.2222222222222222,
             "#7201a8"
            ],
            [
             0.3333333333333333,
             "#9c179e"
            ],
            [
             0.4444444444444444,
             "#bd3786"
            ],
            [
             0.5555555555555556,
             "#d8576b"
            ],
            [
             0.6666666666666666,
             "#ed7953"
            ],
            [
             0.7777777777777778,
             "#fb9f3a"
            ],
            [
             0.8888888888888888,
             "#fdca26"
            ],
            [
             1,
             "#f0f921"
            ]
           ]
          },
          "colorway": [
           "#636efa",
           "#EF553B",
           "#00cc96",
           "#ab63fa",
           "#FFA15A",
           "#19d3f3",
           "#FF6692",
           "#B6E880",
           "#FF97FF",
           "#FECB52"
          ],
          "font": {
           "color": "#2a3f5f"
          },
          "geo": {
           "bgcolor": "white",
           "lakecolor": "white",
           "landcolor": "#E5ECF6",
           "showlakes": true,
           "showland": true,
           "subunitcolor": "white"
          },
          "hoverlabel": {
           "align": "left"
          },
          "hovermode": "closest",
          "mapbox": {
           "style": "light"
          },
          "paper_bgcolor": "white",
          "plot_bgcolor": "#E5ECF6",
          "polar": {
           "angularaxis": {
            "gridcolor": "white",
            "linecolor": "white",
            "ticks": ""
           },
           "bgcolor": "#E5ECF6",
           "radialaxis": {
            "gridcolor": "white",
            "linecolor": "white",
            "ticks": ""
           }
          },
          "scene": {
           "xaxis": {
            "backgroundcolor": "#E5ECF6",
            "gridcolor": "white",
            "gridwidth": 2,
            "linecolor": "white",
            "showbackground": true,
            "ticks": "",
            "zerolinecolor": "white"
           },
           "yaxis": {
            "backgroundcolor": "#E5ECF6",
            "gridcolor": "white",
            "gridwidth": 2,
            "linecolor": "white",
            "showbackground": true,
            "ticks": "",
            "zerolinecolor": "white"
           },
           "zaxis": {
            "backgroundcolor": "#E5ECF6",
            "gridcolor": "white",
            "gridwidth": 2,
            "linecolor": "white",
            "showbackground": true,
            "ticks": "",
            "zerolinecolor": "white"
           }
          },
          "shapedefaults": {
           "line": {
            "color": "#2a3f5f"
           }
          },
          "ternary": {
           "aaxis": {
            "gridcolor": "white",
            "linecolor": "white",
            "ticks": ""
           },
           "baxis": {
            "gridcolor": "white",
            "linecolor": "white",
            "ticks": ""
           },
           "bgcolor": "#E5ECF6",
           "caxis": {
            "gridcolor": "white",
            "linecolor": "white",
            "ticks": ""
           }
          },
          "title": {
           "x": 0.05
          },
          "xaxis": {
           "automargin": true,
           "gridcolor": "white",
           "linecolor": "white",
           "ticks": "",
           "title": {
            "standoff": 15
           },
           "zerolinecolor": "white",
           "zerolinewidth": 2
          },
          "yaxis": {
           "automargin": true,
           "gridcolor": "white",
           "linecolor": "white",
           "ticks": "",
           "title": {
            "standoff": 15
           },
           "zerolinecolor": "white",
           "zerolinewidth": 2
          }
         }
        },
        "title": {
         "font": {
          "size": 24
         },
         "text": "Student Performance"
        },
        "xaxis": {
         "autorange": true,
         "range": [
          2.999329309188464,
          21.000670690811535
         ],
         "title": {
          "font": {
           "size": 16
          },
          "text": "Final grade"
         },
         "type": "linear"
        },
        "yaxis": {
         "autorange": true,
         "range": [
          -0.5015311271183496,
          6.493167925206761
         ],
         "title": {
          "font": {
           "size": 16
          },
          "text": "Improvability score"
         },
         "type": "linear"
        }
       }
      },
      "image/png": "[encoded data removed]",
      "text/html": [
       "<div>                            <div id=\"eb8b3bc1-da37-4650-a55d-0c07e5792767\" class=\"plotly-graph-div\" style=\"height:525px; width:100%;\"></div>            <script type=\"text/javascript\">                require([\"plotly\"], function(Plotly) {                    window.PLOTLYENV=window.PLOTLYENV || {};                                    if (document.getElementById(\"eb8b3bc1-da37-4650-a55d-0c07e5792767\")) {                    Plotly.newPlot(                        \"eb8b3bc1-da37-4650-a55d-0c07e5792767\",                        [{\"hovertemplate\":\"<b>Student ID: %{text}</b><br><br>Improvability score: %{y:.1f}<br>Final grade: %{x:.f}<br>\",\"mode\":\"markers\",\"text\":[0.0,1.0,2.0,3.0,4.0,5.0,6.0,7.0,8.0,9.0,10.0,11.0,12.0,13.0,14.0,15.0,16.0,17.0,18.0,19.0,20.0,21.0,22.0,23.0,24.0,25.0,26.0,27.0,28.0,29.0,30.0,31.0,32.0,33.0,34.0,35.0,36.0,37.0,38.0,39.0,40.0,41.0,42.0,43.0,44.0,45.0,46.0,47.0,48.0,49.0,50.0,51.0,52.0,53.0,54.0,55.0,56.0,57.0,58.0,59.0,60.0,61.0,62.0,63.0,64.0,65.0,66.0,67.0,68.0,69.0,70.0,71.0,72.0,73.0,74.0,75.0,76.0,77.0,78.0,79.0,80.0,81.0,82.0,83.0,84.0,85.0,86.0,87.0,88.0,89.0,90.0,91.0,92.0,93.0,94.0,95.0,96.0,97.0,98.0,99.0,100.0,101.0,102.0,103.0,104.0,105.0,106.0,107.0,108.0,109.0,110.0,111.0,112.0,113.0,114.0,115.0,116.0,117.0,118.0,119.0,120.0,121.0,122.0,123.0,124.0,125.0,126.0,127.0,129.0,132.0,133.0,138.0,139.0,141.0,142.0,143.0,145.0,147.0,149.0,151.0,152.0,154.0,155.0,156.0,157.0,158.0,159.0,161.0,163.0,164.0,165.0,166.0,167.0,169.0,171.0,172.0,174.0,175.0,176.0,177.0,178.0,179.0,180.0,181.0,182.0,183.0,184.0,185.0,186.0,187.0,188.0,189.0,190.0,191.0,192.0,193.0,194.0,195.0,196.0,197.0,198.0,199.0,200.0,201.0,202.0,203.0,204.0,205.0,206.0,207.0,208.0,209.0,210.0,211.0,212.0,213.0,214.0,215.0,216.0,217.0,218.0,219.0,220.0,222.0,223.0,224.0,225.0,226.0,227.0,228.0,229.0,230.0,231.0,232.0,233.0,234.0,235.0,236.0,237.0,238.0,240.0,241.0,243.0,245.0,246.0,247.0,248.0,249.0,250.0,251.0,252.0,253.0,254.0,255.0,256.0,257.0,258.0,260.0,261.0,262.0,263.0,265.0,266.0,267.0,268.0,270.0,271.0,272.0,273.0,274.0,275.0,276.0,277.0,278.0,279.0,280.0,281.0,282.0,283.0,284.0,285.0,286.0,287.0,288.0,289.0,290.0,291.0,292.0,293.0,294.0,295.0,297.0,298.0,299.0,300.0,301.0,302.0,303.0,304.0,305.0,306.0,307.0,308.0,309.0,311.0,312.0,313.0,314.0,315.0,317.0,318.0,319.0,320.0,321.0,322.0,323.0,324.0,325.0,326.0,327.0,328.0,329.0,330.0,331.0,335.0,336.0,338.0,339.0,340.0,342.0,344.0,345.0,346.0,347.0,348.0,349.0,350.0,351.0,352.0,353.0,354.0,355.0,356.0,357.0,358.0,359.0,360.0,361.0,362.0,363.0,364.0,365.0,366.0,368.0,369.0,370.0,371.0,372.0,373.0,374.0,375.0,376.0,377.0,378.0,379.0,380.0,381.0,382.0,384.0,385.0,386.0,388.0,390.0,391.0,392.0,393.0,394.0],\"x\":[6,6,10,15,10,15,11,6,19,15,9,12,14,11,16,14,14,10,5,10,15,15,16,12,8,8,11,15,11,11,12,17,16,12,15,6,18,15,11,13,11,12,18,11,9,6,11,20,14,7,13,13,10,11,13,10,15,15,9,16,11,11,9,9,10,15,12,6,8,16,15,10,5,14,11,10,10,11,10,5,12,11,6,15,10,8,6,14,10,7,8,18,6,10,14,10,15,10,14,8,5,17,14,6,18,11,8,18,13,16,19,10,13,19,9,16,14,13,8,13,15,15,13,13,8,12,11,9,18,12,11,12,15,9,11,13,11,11,10,14,10,12,8,13,10,15,12,7,10,7,12,10,16,14,16,10,9,9,11,6,9,11,8,12,17,8,12,11,11,15,9,10,13,9,8,10,14,15,16,10,18,10,16,10,10,6,11,9,7,13,10,7,8,13,14,8,10,15,4,8,8,10,6,17,13,14,7,15,12,9,12,14,11,9,13,6,10,13,12,11,12,12,12,18,13,8,5,15,8,10,8,8,12,8,13,11,14,18,8,12,9,17,10,11,10,9,14,11,14,10,12,9,9,8,10,8,10,12,10,11,11,19,12,14,15,11,15,13,18,14,11,8,14,16,11,10,14,18,13,12,18,8,12,10,13,11,11,13,11,9,10,11,13,9,11,15,15,11,16,10,9,14,8,14,15,13,17,10,11,15,10,14,16,9,15,13,8,13,8,8,11,9,13,11,10,16,13,12,10,15,12,10,13,10,11,9,12,11,5,19,10,15,10,15,10,14,7,10,5,10,6,8,9,16,7,10,9],\"y\":[1.3367184388689761,2.086618876941457,3.318399044205495,0.38898845081640754,1.0619275189167658,0.910991636798088,1.648148148148148,1.163878932696137,0.7962962962962963,0.17901234567901206,0.6234567901234558,1.3304460374352844,1.0865193150139387,0.9723217841497402,0.8302469135802467,1.274890481879729,0.6793110314615682,1.0742731979291116,4.182895260852249,1.4847670250896046,0.14197530864197513,0.3672839506172835,1.0093588211867779,2.648148148148149,0.4630625248904816,2.7846475507765818,1.4939267224213462,2.139088012743927,0.8520509757068889,2.858821186778176,1.2160493827160492,0.0679012345679011,0.36419753086419704,0.5987654320987652,1.3919753086419748,0.9351851851851847,0.4136798088410984,0.5821385902031052,0.22849462365591386,1.1207686180804457,2.490442054958183,1.577558741537236,0.41676622859418483,1.0092592592592589,2.5099561927518907,0.47570688968538416,2.3092393468737544,0.19155714854639533,1.2192353643966547,0.9970131421744324,2.342692154520112,0.8118279569892467,3.043508562325766,1.453703703703704,2.549681401831939,1.9571883711668656,0.36419753086419704,0.22242134607725975,1.2933094384707289,0.9846674631620861,1.5095579450418155,4.586718438868977,1.7162485065710869,1.685284747112704,1.6851851851851851,1.2686180804460363,1.6730386300278772,1.2779769016328149,1.8735563520509757,1.5252887295898045,0.8888888888888884,0.38271604938271536,3.5278773397052965,1.8025686977299882,2.6230585424133808,1.3120270808442849,1.012743926722421,1.493827160493826,2.7778773397052965,1.1981282357626428,1.5309637594583834,0.9230386300278773,1.3801274392672238,1.9014336917562726,2.1328156113102352,2.176224611708483,1.9384707287933092,1.1082238152130626,1.8524492234169645,2.096575069693349,1.2623456790123446,1.7563719633612098,2.0866188769414573,1.0802469135802462,1.1577060931899643,1.5710872162485063,1.111210673038629,2.095778574273197,1.3027678215850258,1.0030864197530855,3.031561131023496,0.3611111111111101,0.6452608522500989,1.948825169255277,0.8456790123456788,0.559139784946236,0.741138988450816,0.8210872162485059,2.1700517722023105,0.8613102349661486,0.6731381919553957,0.9290123456790118,1.6453604141776181,0.9017323775388293,1.3399044205495814,1.0463958582238149,0.5402230187176417,1.0956790123456785,3.445440063719633,1.1422739944245315,1.7500995619275186,1.3922739944245321,1.1945440063719626,1.939167662285941,1.648148148148148,1.8487654320987652,0.40123456790123435,3.4908403026682593,2.429410593389088,2.6580047789725203,1.4791915571485454,2.9074074074074066,0.49074074074074026,2.9849661489446433,-0.006073277578654321,3.1235563520509757,1.6975308641975309,1.2933094384707289,4.651234567901234,3.7719036240541626,1.7689167662285938,0.49074074074074026,1.3056551174830744,2.73805256869773,5.191656710473914,1.9136798088410987,3.074273197929112,2.8675826363998413,2.56800079649542,4.8580246913580245,1.8742532855436076,2.8026682596575068,0.9567901234567893,0.3395061728395055,1.9846674631620866,1.4259259259259252,1.6174830744723214,2.555754679410594,2.503185981680606,2.1483472720031855,2.346176821983274,0.9878534448426911,1.540621266427717,1.256272401433691,1.6234567901234562,2.589207487056948,1.3988450816407798,2.1981282357626446,2.1235563520509753,1.8580246913580236,1.7194344882516925,2.827359617682198,1.3677817602548772,2.0308641975308634,3.8030665073675824,2.133114297092791,1.5524691358024683,0.9814814814814805,1.2255077658303455,3.0590402230187177,2.6153922739944235,0.5740740740740733,2.1698526483472715,1.7811628833134199,2.7779769016328153,2.062624452409398,1.6762246117084825,2.5662086818000795,2.940063719633611,0.6764237355635203,2.7472122660294707,0.7163480684986056,1.4850657108721623,2.817005177220231,1.648148148148148,3.43747510951812,0.892572680207088,2.2068896853843087,3.275786539227399,2.9774990043807255,2.4708283552369568,1.453902827558741,2.6266427718040615,0.8118279569892467,3.5246913580246915,0.13888888888888823,2.3156113102349654,2.1949422540820382,1.8982477100756667,3.7692154520111507,2.0930904022301853,1.361808044603742,1.555754679410593,1.8432895260852236,1.6883711668657906,2.0101553166069293,1.7227200318598155,3.0619275189167663,1.880625248904818,1.6266427718040608,2.3988450816407796,1.5278773397052954,0.7746913580246908,2.154619673436877,1.5588410991636792,5.997710075667065,2.2781760254878525,2.7499999999999996,3.540123456790123,1.7935085623257658,4.139088012743926,2.1944444444444433,2.6512345679012346,3.197630426125049,0.8120270808442844,1.0005973715651122,2.5374352847471124,1.6445639187574663,0.9105933890880127,1.1281362007168458,1.021804062126642,2.9404619673436896,2.86121067303863,1.77200318598168,2.355436081242532,3.6967343687773804,2.142174432497013,2.355037833532457,2.0463958582238155,1.355037833532456,2.6700517722023105,2.2614496216646756,2.464058144165671,1.696734368777379,1.7750896057347667,3.1681600955794496,3.4592791716447624,1.7176423735563517,2.605137395459976,2.333532457188371,2.293309438470728,1.8752489048187968,1.9138789326961363,2.543508562325767,1.0328554360812423,1.9372759856630821,0.7438271604938261,2.49442453205894,1.1453604141776181,1.3491636798088418,1.892174432497013,2.0467941059338908,0.7037037037037032,1.3629032258064513,1.3247710075667056,1.0216049382716044,1.052469135802468,0.9753086419753081,2.3713659896455583,1.8460772600557542,2.083333333333333,2.514237355635204,2.104938271604937,3.454599761051374,2.2232178414974104,2.7640382317801655,2.510354440461967,2.8648944643568295,2.239645559538032,1.2519912385503775,2.101851851851851,1.972321784149741,1.2650338510553552,1.5438072481083225,1.625149342891278,2.017025089605733,2.6327160493827146,1.1560135404221417,3.1374950219036246,4.355336519315014,1.3228793309438462,0.9477299880525678,2.719235364396655,1.1006571087216235,1.9051174830744717,2.466646754281162,1.0358422939068097,2.061927518916765,3.0464954201513343,1.7644364794902432,1.6637793707686177,2.0759657506969327,1.0421146953405014,1.990740740740741,1.2006172839506166,4.432596575069692,4.846077260055757,2.182198327359618,3.1068299482277983,4.274890481879731,2.024890481879728,1.5617283950617278,1.148347272003185,1.7500995619275181,2.595878136200717,1.9043209876543212,2.783950617283951,3.3550378335324575,1.7098765432098773,0.9567901234567897,1.9691358024691354,3.0866188769414573,1.015432098765432,2.132716049382716,1.8245718837116685,2.3829151732377536,3.137495021903623,1.5096575069693343,3.1426722421346063,1.0524691358024685,2.4136798088410982,2.3427917164476297,2.0125448028673834,1.5740740740740737,2.6628833134209478,1.8890880127439267,2.8320390282755876,1.552568697729987,3.167363600159298,2.1914575866188772,1.8599163679808834,1.9567901234567895,4.665671047391478,3.4214456391875743,4.853544404619671,2.5895061728395072,3.4616686579052174],\"type\":\"scatter\"}],                        {\"template\":{\"data\":{\"histogram2dcontour\":[{\"type\":\"histogram2dcontour\",\"colorbar\":{\"outlinewidth\":0,\"ticks\":\"\"},\"colorscale\":[[0.0,\"#0d0887\"],[0.1111111111111111,\"#46039f\"],[0.2222222222222222,\"#7201a8\"],[0.3333333333333333,\"#9c179e\"],[0.4444444444444444,\"#bd3786\"],[0.5555555555555556,\"#d8576b\"],[0.6666666666666666,\"#ed7953\"],[0.7777777777777778,\"#fb9f3a\"],[0.8888888888888888,\"#fdca26\"],[1.0,\"#f0f921\"]]}],\"choropleth\":[{\"type\":\"choropleth\",\"colorbar\":{\"outlinewidth\":0,\"ticks\":\"\"}}],\"histogram2d\":[{\"type\":\"histogram2d\",\"colorbar\":{\"outlinewidth\":0,\"ticks\":\"\"},\"colorscale\":[[0.0,\"#0d0887\"],[0.1111111111111111,\"#46039f\"],[0.2222222222222222,\"#7201a8\"],[0.3333333333333333,\"#9c179e\"],[0.4444444444444444,\"#bd3786\"],[0.5555555555555556,\"#d8576b\"],[0.6666666666666666,\"#ed7953\"],[0.7777777777777778,\"#fb9f3a\"],[0.8888888888888888,\"#fdca26\"],[1.0,\"#f0f921\"]]}],\"heatmap\":[{\"type\":\"heatmap\",\"colorbar\":{\"outlinewidth\":0,\"ticks\":\"\"},\"colorscale\":[[0.0,\"#0d0887\"],[0.1111111111111111,\"#46039f\"],[0.2222222222222222,\"#7201a8\"],[0.3333333333333333,\"#9c179e\"],[0.4444444444444444,\"#bd3786\"],[0.5555555555555556,\"#d8576b\"],[0.6666666666666666,\"#ed7953\"],[0.7777777777777778,\"#fb9f3a\"],[0.8888888888888888,\"#fdca26\"],[1.0,\"#f0f921\"]]}],\"heatmapgl\":[{\"type\":\"heatmapgl\",\"colorbar\":{\"outlinewidth\":0,\"ticks\":\"\"},\"colorscale\":[[0.0,\"#0d0887\"],[0.1111111111111111,\"#46039f\"],[0.2222222222222222,\"#7201a8\"],[0.3333333333333333,\"#9c179e\"],[0.4444444444444444,\"#bd3786\"],[0.5555555555555556,\"#d8576b\"],[0.6666666666666666,\"#ed7953\"],[0.7777777777777778,\"#fb9f3a\"],[0.8888888888888888,\"#fdca26\"],[1.0,\"#f0f921\"]]}],\"contourcarpet\":[{\"type\":\"contourcarpet\",\"colorbar\":{\"outlinewidth\":0,\"ticks\":\"\"}}],\"contour\":[{\"type\":\"contour\",\"colorbar\":{\"outlinewidth\":0,\"ticks\":\"\"},\"colorscale\":[[0.0,\"#0d0887\"],[0.1111111111111111,\"#46039f\"],[0.2222222222222222,\"#7201a8\"],[0.3333333333333333,\"#9c179e\"],[0.4444444444444444,\"#bd3786\"],[0.5555555555555556,\"#d8576b\"],[0.6666666666666666,\"#ed7953\"],[0.7777777777777778,\"#fb9f3a\"],[0.8888888888888888,\"#fdca26\"],[1.0,\"#f0f921\"]]}],\"surface\":[{\"type\":\"surface\",\"colorbar\":{\"outlinewidth\":0,\"ticks\":\"\"},\"colorscale\":[[0.0,\"#0d0887\"],[0.1111111111111111,\"#46039f\"],[0.2222222222222222,\"#7201a8\"],[0.3333333333333333,\"#9c179e\"],[0.4444444444444444,\"#bd3786\"],[0.5555555555555556,\"#d8576b\"],[0.6666666666666666,\"#ed7953\"],[0.7777777777777778,\"#fb9f3a\"],[0.8888888888888888,\"#fdca26\"],[1.0,\"#f0f921\"]]}],\"mesh3d\":[{\"type\":\"mesh3d\",\"colorbar\":{\"outlinewidth\":0,\"ticks\":\"\"}}],\"scatter\":[{\"fillpattern\":{\"fillmode\":\"overlay\",\"size\":10,\"solidity\":0.2},\"type\":\"scatter\"}],\"parcoords\":[{\"type\":\"parcoords\",\"line\":{\"colorbar\":{\"outlinewidth\":0,\"ticks\":\"\"}}}],\"scatterpolargl\":[{\"type\":\"scatterpolargl\",\"marker\":{\"colorbar\":{\"outlinewidth\":0,\"ticks\":\"\"}}}],\"bar\":[{\"error_x\":{\"color\":\"#2a3f5f\"},\"error_y\":{\"color\":\"#2a3f5f\"},\"marker\":{\"line\":{\"color\":\"#E5ECF6\",\"width\":0.5},\"pattern\":{\"fillmode\":\"overlay\",\"size\":10,\"solidity\":0.2}},\"type\":\"bar\"}],\"scattergeo\":[{\"type\":\"scattergeo\",\"marker\":{\"colorbar\":{\"outlinewidth\":0,\"ticks\":\"\"}}}],\"scatterpolar\":[{\"type\":\"scatterpolar\",\"marker\":{\"colorbar\":{\"outlinewidth\":0,\"ticks\":\"\"}}}],\"histogram\":[{\"marker\":{\"pattern\":{\"fillmode\":\"overlay\",\"size\":10,\"solidity\":0.2}},\"type\":\"histogram\"}],\"scattergl\":[{\"type\":\"scattergl\",\"marker\":{\"colorbar\":{\"outlinewidth\":0,\"ticks\":\"\"}}}],\"scatter3d\":[{\"type\":\"scatter3d\",\"line\":{\"colorbar\":{\"outlinewidth\":0,\"ticks\":\"\"}},\"marker\":{\"colorbar\":{\"outlinewidth\":0,\"ticks\":\"\"}}}],\"scattermapbox\":[{\"type\":\"scattermapbox\",\"marker\":{\"colorbar\":{\"outlinewidth\":0,\"ticks\":\"\"}}}],\"scatterternary\":[{\"type\":\"scatterternary\",\"marker\":{\"colorbar\":{\"outlinewidth\":0,\"ticks\":\"\"}}}],\"scattercarpet\":[{\"type\":\"scattercarpet\",\"marker\":{\"colorbar\":{\"outlinewidth\":0,\"ticks\":\"\"}}}],\"carpet\":[{\"aaxis\":{\"endlinecolor\":\"#2a3f5f\",\"gridcolor\":\"white\",\"linecolor\":\"white\",\"minorgridcolor\":\"white\",\"startlinecolor\":\"#2a3f5f\"},\"baxis\":{\"endlinecolor\":\"#2a3f5f\",\"gridcolor\":\"white\",\"linecolor\":\"white\",\"minorgridcolor\":\"white\",\"startlinecolor\":\"#2a3f5f\"},\"type\":\"carpet\"}],\"table\":[{\"cells\":{\"fill\":{\"color\":\"#EBF0F8\"},\"line\":{\"color\":\"white\"}},\"header\":{\"fill\":{\"color\":\"#C8D4E3\"},\"line\":{\"color\":\"white\"}},\"type\":\"table\"}],\"barpolar\":[{\"marker\":{\"line\":{\"color\":\"#E5ECF6\",\"width\":0.5},\"pattern\":{\"fillmode\":\"overlay\",\"size\":10,\"solidity\":0.2}},\"type\":\"barpolar\"}],\"pie\":[{\"automargin\":true,\"type\":\"pie\"}]},\"layout\":{\"autotypenumbers\":\"strict\",\"colorway\":[\"#636efa\",\"#EF553B\",\"#00cc96\",\"#ab63fa\",\"#FFA15A\",\"#19d3f3\",\"#FF6692\",\"#B6E880\",\"#FF97FF\",\"#FECB52\"],\"font\":{\"color\":\"#2a3f5f\"},\"hovermode\":\"closest\",\"hoverlabel\":{\"align\":\"left\"},\"paper_bgcolor\":\"white\",\"plot_bgcolor\":\"#E5ECF6\",\"polar\":{\"bgcolor\":\"#E5ECF6\",\"angularaxis\":{\"gridcolor\":\"white\",\"linecolor\":\"white\",\"ticks\":\"\"},\"radialaxis\":{\"gridcolor\":\"white\",\"linecolor\":\"white\",\"ticks\":\"\"}},\"ternary\":{\"bgcolor\":\"#E5ECF6\",\"aaxis\":{\"gridcolor\":\"white\",\"linecolor\":\"white\",\"ticks\":\"\"},\"baxis\":{\"gridcolor\":\"white\",\"linecolor\":\"white\",\"ticks\":\"\"},\"caxis\":{\"gridcolor\":\"white\",\"linecolor\":\"white\",\"ticks\":\"\"}},\"coloraxis\":{\"colorbar\":{\"outlinewidth\":0,\"ticks\":\"\"}},\"colorscale\":{\"sequential\":[[0.0,\"#0d0887\"],[0.1111111111111111,\"#46039f\"],[0.2222222222222222,\"#7201a8\"],[0.3333333333333333,\"#9c179e\"],[0.4444444444444444,\"#bd3786\"],[0.5555555555555556,\"#d8576b\"],[0.6666666666666666,\"#ed7953\"],[0.7777777777777778,\"#fb9f3a\"],[0.8888888888888888,\"#fdca26\"],[1.0,\"#f0f921\"]],\"sequentialminus\":[[0.0,\"#0d0887\"],[0.1111111111111111,\"#46039f\"],[0.2222222222222222,\"#7201a8\"],[0.3333333333333333,\"#9c179e\"],[0.4444444444444444,\"#bd3786\"],[0.5555555555555556,\"#d8576b\"],[0.6666666666666666,\"#ed7953\"],[0.7777777777777778,\"#fb9f3a\"],[0.8888888888888888,\"#fdca26\"],[1.0,\"#f0f921\"]],\"diverging\":[[0,\"#8e0152\"],[0.1,\"#c51b7d\"],[0.2,\"#de77ae\"],[0.3,\"#f1b6da\"],[0.4,\"#fde0ef\"],[0.5,\"#f7f7f7\"],[0.6,\"#e6f5d0\"],[0.7,\"#b8e186\"],[0.8,\"#7fbc41\"],[0.9,\"#4d9221\"],[1,\"#276419\"]]},\"xaxis\":{\"gridcolor\":\"white\",\"linecolor\":\"white\",\"ticks\":\"\",\"title\":{\"standoff\":15},\"zerolinecolor\":\"white\",\"automargin\":true,\"zerolinewidth\":2},\"yaxis\":{\"gridcolor\":\"white\",\"linecolor\":\"white\",\"ticks\":\"\",\"title\":{\"standoff\":15},\"zerolinecolor\":\"white\",\"automargin\":true,\"zerolinewidth\":2},\"scene\":{\"xaxis\":{\"backgroundcolor\":\"#E5ECF6\",\"gridcolor\":\"white\",\"linecolor\":\"white\",\"showbackground\":true,\"ticks\":\"\",\"zerolinecolor\":\"white\",\"gridwidth\":2},\"yaxis\":{\"backgroundcolor\":\"#E5ECF6\",\"gridcolor\":\"white\",\"linecolor\":\"white\",\"showbackground\":true,\"ticks\":\"\",\"zerolinecolor\":\"white\",\"gridwidth\":2},\"zaxis\":{\"backgroundcolor\":\"#E5ECF6\",\"gridcolor\":\"white\",\"linecolor\":\"white\",\"showbackground\":true,\"ticks\":\"\",\"zerolinecolor\":\"white\",\"gridwidth\":2}},\"shapedefaults\":{\"line\":{\"color\":\"#2a3f5f\"}},\"annotationdefaults\":{\"arrowcolor\":\"#2a3f5f\",\"arrowhead\":0,\"arrowwidth\":1},\"geo\":{\"bgcolor\":\"white\",\"landcolor\":\"#E5ECF6\",\"subunitcolor\":\"white\",\"showland\":true,\"showlakes\":true,\"lakecolor\":\"white\"},\"title\":{\"x\":0.05},\"mapbox\":{\"style\":\"light\"}}},\"title\":{\"font\":{\"size\":24},\"text\":\"Student Performance\"},\"xaxis\":{\"title\":{\"font\":{\"size\":16},\"text\":\"Final grade\"}},\"yaxis\":{\"title\":{\"font\":{\"size\":16},\"text\":\"Improvability score\"}}},                        {\"responsive\": true}                    ).then(function(){\n",
       "                            \n",
       "var gd = document.getElementById('eb8b3bc1-da37-4650-a55d-0c07e5792767');\n",
       "var x = new MutationObserver(function (mutations, observer) {{\n",
       "        var display = window.getComputedStyle(gd).display;\n",
       "        if (!display || display === 'none') {{\n",
       "            console.log([gd, 'removed!']);\n",
       "            Plotly.purge(gd);\n",
       "            observer.disconnect();\n",
       "        }}\n",
       "}});\n",
       "\n",
       "// Listen for the removal of the full notebook cells\n",
       "var notebookContainer = gd.closest('#notebook-container');\n",
       "if (notebookContainer) {{\n",
       "    x.observe(notebookContainer, {childList: true});\n",
       "}}\n",
       "\n",
       "// Listen for the clearing of the current output cell\n",
       "var outputEl = gd.closest('.output');\n",
       "if (outputEl) {{\n",
       "    x.observe(outputEl, {childList: true});\n",
       "}}\n",
       "\n",
       "                        })                };                });            </script>        </div>"
      ]
     },
     "metadata": {},
     "output_type": "display_data"
    }
   ],
   "source": [
    "fig = go.Figure(data=[\n",
    "    go.Scatter(\n",
    "        y=df[\"ImprovabilityScore\"], x=df['FinalGrade'], \n",
    "        mode=\"markers\",\n",
    "        text=df['StudentID'],\n",
    "        hovertemplate=\n",
    "            \"<b>Student ID: %{text}</b><br><br>\" +\n",
    "            \"Improvability score: %{y:.1f}<br>\" +\n",
    "            \"Final grade: %{x:.f}<br>\" \n",
    "    )\n",
    "])\n",
    "fig.update_layout(\n",
    "    title={\"text\": \"Student Performance\", \"font\": {\"size\": 24}},\n",
    "    xaxis={\"title\": {\"text\": \"Final grade\", \"font\": {\"size\": 16}}},\n",
    "    yaxis={\"title\": {\"text\": \"Improvability score\", \"font\": {\"size\": 16}}}\n",
    ")\n",
    "fig.show()"
   ]
  },
  {
   "cell_type": "code",
   "execution_count": null,
   "id": "2da46061-485d-4fe6-b698-2854bbf4280d",
   "metadata": {},
   "outputs": [],
   "source": []
  }
 ],
 "metadata": {
  "kernelspec": {
   "display_name": "Python 3 (ipykernel)",
   "language": "python",
   "name": "python3"
  },
  "language_info": {
   "codemirror_mode": {
    "name": "ipython",
    "version": 3
   },
   "file_extension": ".py",
   "mimetype": "text/x-python",
   "name": "python",
   "nbconvert_exporter": "python",
   "pygments_lexer": "ipython3",
   "version": "3.9.7"
  }
 },
 "nbformat": 4,
 "nbformat_minor": 5
}
